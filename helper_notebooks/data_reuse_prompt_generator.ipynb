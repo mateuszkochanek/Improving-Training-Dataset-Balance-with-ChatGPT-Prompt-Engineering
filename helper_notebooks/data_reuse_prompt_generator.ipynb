{
 "cells": [
  {
   "cell_type": "code",
   "execution_count": 1,
   "id": "2012f48d",
   "metadata": {},
   "outputs": [
    {
     "name": "stderr",
     "output_type": "stream",
     "text": [
      "/home/erthax/Programming/MAGISTERKA/venv/lib/python3.10/site-packages/tqdm/auto.py:21: TqdmWarning: IProgress not found. Please update jupyter and ipywidgets. See https://ipywidgets.readthedocs.io/en/stable/user_install.html\n",
      "  from .autonotebook import tqdm as notebook_tqdm\n"
     ]
    }
   ],
   "source": [
    "import pandas as pd\n",
    "import random\n",
    "from datasets import load_dataset"
   ]
  },
  {
   "cell_type": "code",
   "execution_count": 4,
   "id": "b9fb0fae",
   "metadata": {},
   "outputs": [
    {
     "name": "stderr",
     "output_type": "stream",
     "text": [
      "Found cached dataset imdb (/home/erthax/.cache/huggingface/datasets/imdb/plain_text/1.0.0/d613c88cf8fa3bab83b4ded3713f1f74830d1100e171db75bbddb80b3345c9c0)\n"
     ]
    }
   ],
   "source": [
    "dataset_train = load_dataset(\"imdb\", split=\"train\")\n",
    "train_data = pd.DataFrame(dataset_train)"
   ]
  },
  {
   "cell_type": "code",
   "execution_count": 5,
   "id": "451ddd54",
   "metadata": {},
   "outputs": [
    {
     "data": {
      "text/html": [
       "<div>\n",
       "<style scoped>\n",
       "    .dataframe tbody tr th:only-of-type {\n",
       "        vertical-align: middle;\n",
       "    }\n",
       "\n",
       "    .dataframe tbody tr th {\n",
       "        vertical-align: top;\n",
       "    }\n",
       "\n",
       "    .dataframe thead th {\n",
       "        text-align: right;\n",
       "    }\n",
       "</style>\n",
       "<table border=\"1\" class=\"dataframe\">\n",
       "  <thead>\n",
       "    <tr style=\"text-align: right;\">\n",
       "      <th></th>\n",
       "      <th>text</th>\n",
       "      <th>label</th>\n",
       "    </tr>\n",
       "  </thead>\n",
       "  <tbody>\n",
       "    <tr>\n",
       "      <th>0</th>\n",
       "      <td>I rented I AM CURIOUS-YELLOW from my video sto...</td>\n",
       "      <td>0</td>\n",
       "    </tr>\n",
       "    <tr>\n",
       "      <th>1</th>\n",
       "      <td>\"I Am Curious: Yellow\" is a risible and preten...</td>\n",
       "      <td>0</td>\n",
       "    </tr>\n",
       "    <tr>\n",
       "      <th>2</th>\n",
       "      <td>If only to avoid making this type of film in t...</td>\n",
       "      <td>0</td>\n",
       "    </tr>\n",
       "    <tr>\n",
       "      <th>3</th>\n",
       "      <td>This film was probably inspired by Godard's Ma...</td>\n",
       "      <td>0</td>\n",
       "    </tr>\n",
       "    <tr>\n",
       "      <th>4</th>\n",
       "      <td>Oh, brother...after hearing about this ridicul...</td>\n",
       "      <td>0</td>\n",
       "    </tr>\n",
       "    <tr>\n",
       "      <th>...</th>\n",
       "      <td>...</td>\n",
       "      <td>...</td>\n",
       "    </tr>\n",
       "    <tr>\n",
       "      <th>24995</th>\n",
       "      <td>A hit at the time but now better categorised a...</td>\n",
       "      <td>1</td>\n",
       "    </tr>\n",
       "    <tr>\n",
       "      <th>24996</th>\n",
       "      <td>I love this movie like no other. Another time ...</td>\n",
       "      <td>1</td>\n",
       "    </tr>\n",
       "    <tr>\n",
       "      <th>24997</th>\n",
       "      <td>This film and it's sequel Barry Mckenzie holds...</td>\n",
       "      <td>1</td>\n",
       "    </tr>\n",
       "    <tr>\n",
       "      <th>24998</th>\n",
       "      <td>'The Adventures Of Barry McKenzie' started lif...</td>\n",
       "      <td>1</td>\n",
       "    </tr>\n",
       "    <tr>\n",
       "      <th>24999</th>\n",
       "      <td>The story centers around Barry McKenzie who mu...</td>\n",
       "      <td>1</td>\n",
       "    </tr>\n",
       "  </tbody>\n",
       "</table>\n",
       "<p>25000 rows × 2 columns</p>\n",
       "</div>"
      ],
      "text/plain": [
       "                                                    text  label\n",
       "0      I rented I AM CURIOUS-YELLOW from my video sto...      0\n",
       "1      \"I Am Curious: Yellow\" is a risible and preten...      0\n",
       "2      If only to avoid making this type of film in t...      0\n",
       "3      This film was probably inspired by Godard's Ma...      0\n",
       "4      Oh, brother...after hearing about this ridicul...      0\n",
       "...                                                  ...    ...\n",
       "24995  A hit at the time but now better categorised a...      1\n",
       "24996  I love this movie like no other. Another time ...      1\n",
       "24997  This film and it's sequel Barry Mckenzie holds...      1\n",
       "24998  'The Adventures Of Barry McKenzie' started lif...      1\n",
       "24999  The story centers around Barry McKenzie who mu...      1\n",
       "\n",
       "[25000 rows x 2 columns]"
      ]
     },
     "execution_count": 5,
     "metadata": {},
     "output_type": "execute_result"
    }
   ],
   "source": [
    "train_data"
   ]
  },
  {
   "cell_type": "markdown",
   "id": "5441109b",
   "metadata": {},
   "source": [
    "**Prompt schema:**\n",
    "\n",
    "{*film_sentence*} {*attitude_sentence*} {*additional_sentences*} {*length_sentences*}  \n",
    "Return your output as a python list, where every review is one element in that list.  \n",
    "Output should look like this: ['review1', 'review2', 'review3']  \n",
    "Do not explain yourself."
   ]
  },
  {
   "cell_type": "code",
   "execution_count": 18,
   "id": "67946c50",
   "metadata": {},
   "outputs": [],
   "source": [
    "schema = \"\"\"{}{}{}{}\n",
    "Return your output as a python list, where every review is one element in that list. \n",
    "Output should look like this: ['review1', 'review2', 'review3']\n",
    "Do not explain yourself.\"\"\""
   ]
  },
  {
   "cell_type": "code",
   "execution_count": 26,
   "id": "4c0b05ad",
   "metadata": {},
   "outputs": [],
   "source": [
    "generated_prompts = {\n",
    "    \"id\" : [],\n",
    "    \"prompt\" : [],\n",
    "}\n",
    "for i in range(12500):\n",
    "    film_sentence_choice = random.choices(film_sentences, film_sentences_pp)[0]\n",
    "    if film_sentence_choice[1] == 0:\n",
    "        choice = random.choice(movie_titles)\n",
    "        film_sentence = film_sentence_choice[0].format(choice)\n",
    "    else:\n",
    "        film_sentence = film_sentence_choice[0]\n",
    "\n",
    "    attitude_sentence = random.choices(attitude_sentences, attitude_sentences_pp)[0]\n",
    "    length_sentence = random.choices(length_sentences, length_sentences_pp)[0]\n",
    "    additional_sentence = random.choices(additional_sentences, additional_sentences_pp)[0]\n",
    "    prompt = schema.format(film_sentence, attitude_sentence, additional_sentence, length_sentence)\n",
    "    generated_prompts['id'].append(i)\n",
    "    generated_prompts['prompt'].append(prompt)"
   ]
  },
  {
   "cell_type": "code",
   "execution_count": 27,
   "id": "d5553da7",
   "metadata": {},
   "outputs": [],
   "source": [
    "df = pd.DataFrame(generated_prompts)"
   ]
  },
  {
   "cell_type": "code",
   "execution_count": 32,
   "id": "8d748dd8",
   "metadata": {},
   "outputs": [],
   "source": [
    "df.to_csv(\"prompts.csv\", index=False, sep=\";\")"
   ]
  },
  {
   "cell_type": "code",
   "execution_count": null,
   "id": "cae8b6c8",
   "metadata": {},
   "outputs": [],
   "source": []
  }
 ],
 "metadata": {
  "kernelspec": {
   "display_name": "Python 3 (ipykernel)",
   "language": "python",
   "name": "python3"
  },
  "language_info": {
   "codemirror_mode": {
    "name": "ipython",
    "version": 3
   },
   "file_extension": ".py",
   "mimetype": "text/x-python",
   "name": "python",
   "nbconvert_exporter": "python",
   "pygments_lexer": "ipython3",
   "version": "3.10.7"
  }
 },
 "nbformat": 4,
 "nbformat_minor": 5
}
