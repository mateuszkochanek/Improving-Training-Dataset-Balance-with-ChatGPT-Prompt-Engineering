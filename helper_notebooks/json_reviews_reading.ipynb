{
 "cells": [
  {
   "cell_type": "code",
   "execution_count": 19,
   "id": "719ebae6",
   "metadata": {},
   "outputs": [],
   "source": [
    "import pandas as pd\n",
    "import json"
   ]
  },
  {
   "cell_type": "code",
   "execution_count": 20,
   "id": "340f8efb",
   "metadata": {},
   "outputs": [],
   "source": [
    "df_synth = pd.read_csv(\"../data/similar_prompt_reviews_02.csv\", sep=\";\")#, index=False)\n",
    "df_synth = df_synth.dropna(axis=0).reset_index()"
   ]
  },
  {
   "cell_type": "code",
   "execution_count": 21,
   "id": "7ac1d4f6",
   "metadata": {},
   "outputs": [
    {
     "data": {
      "text/html": [
       "<div>\n",
       "<style scoped>\n",
       "    .dataframe tbody tr th:only-of-type {\n",
       "        vertical-align: middle;\n",
       "    }\n",
       "\n",
       "    .dataframe tbody tr th {\n",
       "        vertical-align: top;\n",
       "    }\n",
       "\n",
       "    .dataframe thead th {\n",
       "        text-align: right;\n",
       "    }\n",
       "</style>\n",
       "<table border=\"1\" class=\"dataframe\">\n",
       "  <thead>\n",
       "    <tr style=\"text-align: right;\">\n",
       "      <th></th>\n",
       "      <th>index</th>\n",
       "      <th>id</th>\n",
       "      <th>chatgpt-output</th>\n",
       "    </tr>\n",
       "  </thead>\n",
       "  <tbody>\n",
       "    <tr>\n",
       "      <th>0</th>\n",
       "      <td>0</td>\n",
       "      <td>0</td>\n",
       "      <td>{\"review1\" : \"I AM CURIOUS-YELLOW is a complet...</td>\n",
       "    </tr>\n",
       "    <tr>\n",
       "      <th>1</th>\n",
       "      <td>1</td>\n",
       "      <td>1</td>\n",
       "      <td>{\"review1\" : \"Watching 'The Last Rotation' was...</td>\n",
       "    </tr>\n",
       "    <tr>\n",
       "      <th>2</th>\n",
       "      <td>2</td>\n",
       "      <td>2</td>\n",
       "      <td>{\"review1\": \"This film is a complete disaster....</td>\n",
       "    </tr>\n",
       "    <tr>\n",
       "      <th>3</th>\n",
       "      <td>3</td>\n",
       "      <td>3</td>\n",
       "      <td>{\"review1\": \"This film is an abomination to ci...</td>\n",
       "    </tr>\n",
       "    <tr>\n",
       "      <th>4</th>\n",
       "      <td>4</td>\n",
       "      <td>4</td>\n",
       "      <td>{\"review1\" : \"This film is a complete waste of...</td>\n",
       "    </tr>\n",
       "    <tr>\n",
       "      <th>...</th>\n",
       "      <td>...</td>\n",
       "      <td>...</td>\n",
       "      <td>...</td>\n",
       "    </tr>\n",
       "    <tr>\n",
       "      <th>4098</th>\n",
       "      <td>4098</td>\n",
       "      <td>4098</td>\n",
       "      <td>{\"review1\": \"This film is a complete waste of ...</td>\n",
       "    </tr>\n",
       "    <tr>\n",
       "      <th>4099</th>\n",
       "      <td>4099</td>\n",
       "      <td>4099</td>\n",
       "      <td>{\"review1\": \"This film is a complete waste of ...</td>\n",
       "    </tr>\n",
       "    <tr>\n",
       "      <th>4100</th>\n",
       "      <td>4100</td>\n",
       "      <td>4100</td>\n",
       "      <td>{\"review1\": \"The film's video quality is so po...</td>\n",
       "    </tr>\n",
       "    <tr>\n",
       "      <th>4101</th>\n",
       "      <td>4101</td>\n",
       "      <td>4101</td>\n",
       "      <td>{\"review1\":\"This movie was a total snooze-fest...</td>\n",
       "    </tr>\n",
       "    <tr>\n",
       "      <th>4102</th>\n",
       "      <td>4102</td>\n",
       "      <td>4102</td>\n",
       "      <td>{\"review1\": \"This movie is a perfect example o...</td>\n",
       "    </tr>\n",
       "  </tbody>\n",
       "</table>\n",
       "<p>4103 rows × 3 columns</p>\n",
       "</div>"
      ],
      "text/plain": [
       "      index    id                                     chatgpt-output\n",
       "0         0     0  {\"review1\" : \"I AM CURIOUS-YELLOW is a complet...\n",
       "1         1     1  {\"review1\" : \"Watching 'The Last Rotation' was...\n",
       "2         2     2  {\"review1\": \"This film is a complete disaster....\n",
       "3         3     3  {\"review1\": \"This film is an abomination to ci...\n",
       "4         4     4  {\"review1\" : \"This film is a complete waste of...\n",
       "...     ...   ...                                                ...\n",
       "4098   4098  4098  {\"review1\": \"This film is a complete waste of ...\n",
       "4099   4099  4099  {\"review1\": \"This film is a complete waste of ...\n",
       "4100   4100  4100  {\"review1\": \"The film's video quality is so po...\n",
       "4101   4101  4101  {\"review1\":\"This movie was a total snooze-fest...\n",
       "4102   4102  4102  {\"review1\": \"This movie is a perfect example o...\n",
       "\n",
       "[4103 rows x 3 columns]"
      ]
     },
     "execution_count": 21,
     "metadata": {},
     "output_type": "execute_result"
    }
   ],
   "source": [
    "df_synth"
   ]
  },
  {
   "cell_type": "code",
   "execution_count": 22,
   "id": "d743ae20",
   "metadata": {},
   "outputs": [],
   "source": [
    "reviews_triplets = df_synth[\"chatgpt-output\"].values.tolist()"
   ]
  },
  {
   "cell_type": "code",
   "execution_count": 23,
   "id": "aa03c82c",
   "metadata": {},
   "outputs": [
    {
     "name": "stdout",
     "output_type": "stream",
     "text": [
      "exception\n",
      "exception\n",
      "exception\n",
      "exception\n",
      "exception\n",
      "exception\n",
      "exception\n",
      "exception\n",
      "exception\n",
      "exception\n",
      "exception\n",
      "exception\n",
      "exception\n",
      "exception\n",
      "exception\n",
      "exception\n",
      "exception\n",
      "exception\n",
      "exception\n",
      "exception\n",
      "exception\n",
      "exception\n",
      "exception\n",
      "exception\n",
      "exception\n",
      "exception\n",
      "exception\n",
      "exception\n",
      "exception\n",
      "exception\n",
      "exception\n",
      "exception\n",
      "exception\n",
      "exception\n",
      "exception\n",
      "exception\n",
      "exception\n",
      "exception\n",
      "38  wrong outputs\n"
     ]
    }
   ],
   "source": [
    "review_list_synth = []\n",
    "i = 0\n",
    "for rev_json in reviews_triplets:\n",
    "    try:\n",
    "        rev = json.loads(rev_json)\n",
    "        for key, val in rev.items():\n",
    "            review_list_synth.append(val)\n",
    "    except:\n",
    "        print(\"exception\")\n",
    "        i+=1\n",
    "print(i ,\" wrong outputs\")\n",
    "labels_synth = [0 for x in range(len(review_list_synth))]"
   ]
  },
  {
   "cell_type": "code",
   "execution_count": 24,
   "id": "cbe85d42",
   "metadata": {},
   "outputs": [],
   "source": [
    "df_synth_list = pd.DataFrame({\"text\" : review_list_synth, \"label\" : labels_synth})\n",
    "df_synth_list.to_csv(\"../data/similar_negative_reviews_02.csv\", sep=\";\")"
   ]
  },
  {
   "cell_type": "code",
   "execution_count": null,
   "id": "9bbab82e",
   "metadata": {},
   "outputs": [],
   "source": []
  }
 ],
 "metadata": {
  "kernelspec": {
   "display_name": "Python 3 (ipykernel)",
   "language": "python",
   "name": "python3"
  },
  "language_info": {
   "codemirror_mode": {
    "name": "ipython",
    "version": 3
   },
   "file_extension": ".py",
   "mimetype": "text/x-python",
   "name": "python",
   "nbconvert_exporter": "python",
   "pygments_lexer": "ipython3",
   "version": "3.10.7"
  }
 },
 "nbformat": 4,
 "nbformat_minor": 5
}
