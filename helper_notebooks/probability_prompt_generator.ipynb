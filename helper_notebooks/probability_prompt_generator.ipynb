{
 "cells": [
  {
   "cell_type": "code",
   "execution_count": 1,
   "id": "2012f48d",
   "metadata": {},
   "outputs": [],
   "source": [
    "import pandas as pd\n",
    "import random"
   ]
  },
  {
   "cell_type": "code",
   "execution_count": 2,
   "id": "8745f41e",
   "metadata": {},
   "outputs": [
    {
     "name": "stderr",
     "output_type": "stream",
     "text": [
      "/tmp/ipykernel_59835/1146625049.py:1: DtypeWarning: Columns (10) have mixed types. Specify dtype option on import or set low_memory=False.\n",
      "  movie_titles = (pd.read_csv(\"./data/movies_metadata.csv\"))['original_title'].values.tolist()\n"
     ]
    }
   ],
   "source": [
    "movie_titles = (pd.read_csv(\"./data/movies_metadata.csv\"))['original_title'].values.tolist()"
   ]
  },
  {
   "cell_type": "code",
   "execution_count": 17,
   "id": "60570724",
   "metadata": {},
   "outputs": [],
   "source": [
    "film_sentences = [\n",
    "    (\"Create three film reviews about the same film: \\\"{}\\\".\", 0),\n",
    "    (\"Create three film reviews about the same film. Film can be real or imaginary.\", 1)\n",
    "]\n",
    "film_sentences_pp = [0.2, 0.8]\n",
    "\n",
    "attitude_sentences = [\n",
    "    ' Reviews must be negative.',\n",
    "    \" Reviews must be negative, but ambiguous.\",\n",
    "    \" Reviews must be negative and sarcastic.\"\n",
    "]\n",
    "attitude_sentences_pp = [0.5, 0.4, 0.1]\n",
    "\n",
    "length_sentences = [\n",
    "    \"\",\n",
    "    \" Reviews must be short.\",\n",
    "    \" Reviews must be long.\"\n",
    "]\n",
    "length_sentences_pp = [0.7, 0.1, 0.2]\n",
    "\n",
    "additional_sentences = [\n",
    "    \"\",\n",
    "    #\"Focus on bad acting by {}.\",\n",
    "    \" Focus on terrible director.\",\n",
    "    \" Focus on bad cinematography.\",\n",
    "    \" Focus on bad acting.\",\n",
    "    \" Focus on bad CGI effects.\",\n",
    "    \" Focus on boring plot.\",\n",
    "    \" Focus on bad writing.\",\n",
    "    \" Focus on film being very generic.\",\n",
    "    \" Focus on film being very boring.\"\n",
    "]\n",
    "additional_sentences_pp = [0.2, 0.1, 0.1, 0.1, 0.1, 0.1, 0.1, 0.1, 0.1]"
   ]
  },
  {
   "cell_type": "markdown",
   "id": "5441109b",
   "metadata": {},
   "source": [
    "**Prompt schema:**\n",
    "\n",
    "{*film_sentence*} {*attitude_sentence*} {*additional_sentences*} {*length_sentences*}  \n",
    "Return your output as a python list, where every review is one element in that list.  \n",
    "Output should look like this: ['review1', 'review2', 'review3']  \n",
    "Do not explain yourself."
   ]
  },
  {
   "cell_type": "code",
   "execution_count": 18,
   "id": "67946c50",
   "metadata": {},
   "outputs": [],
   "source": [
    "schema = \"\"\"{}{}{}{}\n",
    "Return your output as a python list, where every review is one element in that list. \n",
    "Output should look like this: ['review1', 'review2', 'review3']\n",
    "Do not explain yourself.\"\"\""
   ]
  },
  {
   "cell_type": "code",
   "execution_count": 26,
   "id": "4c0b05ad",
   "metadata": {},
   "outputs": [],
   "source": [
    "generated_prompts = {\n",
    "    \"id\" : [],\n",
    "    \"prompt\" : [],\n",
    "}\n",
    "for i in range(12500):\n",
    "    film_sentence_choice = random.choices(film_sentences, film_sentences_pp)[0]\n",
    "    if film_sentence_choice[1] == 0:\n",
    "        choice = random.choice(movie_titles)\n",
    "        film_sentence = film_sentence_choice[0].format(choice)\n",
    "    else:\n",
    "        film_sentence = film_sentence_choice[0]\n",
    "\n",
    "    attitude_sentence = random.choices(attitude_sentences, attitude_sentences_pp)[0]\n",
    "    length_sentence = random.choices(length_sentences, length_sentences_pp)[0]\n",
    "    additional_sentence = random.choices(additional_sentences, additional_sentences_pp)[0]\n",
    "    prompt = schema.format(film_sentence, attitude_sentence, additional_sentence, length_sentence)\n",
    "    generated_prompts['id'].append(i)\n",
    "    generated_prompts['prompt'].append(prompt)"
   ]
  },
  {
   "cell_type": "code",
   "execution_count": 27,
   "id": "d5553da7",
   "metadata": {},
   "outputs": [],
   "source": [
    "df = pd.DataFrame(generated_prompts)"
   ]
  },
  {
   "cell_type": "code",
   "execution_count": 32,
   "id": "8d748dd8",
   "metadata": {},
   "outputs": [],
   "source": [
    "df.to_csv(\"prompts.csv\", index=False, sep=\";\")"
   ]
  },
  {
   "cell_type": "code",
   "execution_count": null,
   "id": "cae8b6c8",
   "metadata": {},
   "outputs": [],
   "source": []
  }
 ],
 "metadata": {
  "kernelspec": {
   "display_name": "Python 3 (ipykernel)",
   "language": "python",
   "name": "python3"
  },
  "language_info": {
   "codemirror_mode": {
    "name": "ipython",
    "version": 3
   },
   "file_extension": ".py",
   "mimetype": "text/x-python",
   "name": "python",
   "nbconvert_exporter": "python",
   "pygments_lexer": "ipython3",
   "version": "3.10.7"
  }
 },
 "nbformat": 4,
 "nbformat_minor": 5
}
