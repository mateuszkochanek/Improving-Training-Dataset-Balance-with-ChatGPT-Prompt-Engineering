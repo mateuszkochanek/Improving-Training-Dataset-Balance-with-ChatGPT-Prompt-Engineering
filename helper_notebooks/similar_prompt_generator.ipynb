{
 "cells": [
  {
   "cell_type": "code",
   "execution_count": 14,
   "id": "2012f48d",
   "metadata": {},
   "outputs": [],
   "source": [
    "import pandas as pd\n",
    "from datasets import load_dataset\n",
    "import random\n",
    "import json\n",
    "import csv"
   ]
  },
  {
   "cell_type": "code",
   "execution_count": 15,
   "id": "8745f41e",
   "metadata": {},
   "outputs": [
    {
     "name": "stderr",
     "output_type": "stream",
     "text": [
      "Found cached dataset imdb (/home/erthax/.cache/huggingface/datasets/imdb/plain_text/1.0.0/d613c88cf8fa3bab83b4ded3713f1f74830d1100e171db75bbddb80b3345c9c0)\n"
     ]
    }
   ],
   "source": [
    "dataset_train = load_dataset(\"imdb\", split=\"train\")\n",
    "train_data = pd.DataFrame(dataset_train)"
   ]
  },
  {
   "cell_type": "code",
   "execution_count": 16,
   "id": "4260f2ae",
   "metadata": {},
   "outputs": [],
   "source": [
    "chosen_texts_number = 1250"
   ]
  },
  {
   "cell_type": "code",
   "execution_count": 17,
   "id": "c4543ee1",
   "metadata": {},
   "outputs": [],
   "source": [
    "chosen_texts = train_data.head(chosen_texts_number)"
   ]
  },
  {
   "cell_type": "code",
   "execution_count": 18,
   "id": "9fb53803",
   "metadata": {},
   "outputs": [
    {
     "data": {
      "text/plain": [
       "1250"
      ]
     },
     "execution_count": 18,
     "metadata": {},
     "output_type": "execute_result"
    }
   ],
   "source": [
    "len(chosen_texts)"
   ]
  },
  {
   "cell_type": "code",
   "execution_count": 6,
   "id": "b68cd8d1",
   "metadata": {},
   "outputs": [],
   "source": [
    "chosen_texts = chosen_texts[\"text\"].tolist()"
   ]
  },
  {
   "cell_type": "markdown",
   "id": "5441109b",
   "metadata": {},
   "source": [
    "**Prompt schema:**\n",
    "\n",
    "[\n",
    "\n",
    "\n",
    "    {\"role\": \"system\", \"content\": \"You are a negative review generator. Return your output as a json, where every review is one element. Output should look like this: {\\\"review1\\\" : \\\"\\\", \\\"review2\\\" : \\\"\\\", \\\"review3\\\" : \\\"\\\"}. Do not explain yourself.\"},\n",
    "    \n",
    "    \n",
    "    {\"role\": \"user\", \"content\": \n",
    "    \"Create three film reviews about the same film. Film can be real or imaginary. Reviews must be negative. Base your reviews on this review:\\\"{}\\\". Return your output as a json, where every review is one element. Output should look like this: {\\\"review1\\\" : \\\"\\\", \\\"review2\\\" : \\\"\\\", \\\"review3\\\" : \\\"\\\"}. Do not explain yourself.\"}\n",
    "    \n",
    "    \n",
    "]"
   ]
  },
  {
   "cell_type": "code",
   "execution_count": 7,
   "id": "5aee2ab6",
   "metadata": {},
   "outputs": [],
   "source": [
    "my_json = [\n",
    "    {\"role\": \"system\", \"content\": \"You are a negative review generator. Return your output as a json, where every review is one element. Output should look like this: {\\\"review1\\\" : \\\"\\\", \\\"review2\\\" : \\\"\\\", \\\"review3\\\" : \\\"\\\"}. Do not explain yourself.\"},\n",
    "    {\"role\": \"user\", \"content\": None}\n",
    "]"
   ]
  },
  {
   "cell_type": "code",
   "execution_count": 8,
   "id": "02d62334",
   "metadata": {},
   "outputs": [],
   "source": [
    "text = \"Create three film reviews about the same film. Film can be real or imaginary. Reviews must be negative. Base your reviews on this review:\\\"%s\\\". Return your output as a json, where every review is one element. Output should look like this: {\\\"review1\\\" : \\\"\\\", \\\"review2\\\" : \\\"\\\", \\\"review3\\\" : \\\"\\\"}. Do not explain yourself.\""
   ]
  },
  {
   "cell_type": "code",
   "execution_count": 9,
   "id": "015b8578",
   "metadata": {},
   "outputs": [],
   "source": [
    "text_out = text % (chosen_texts[0])"
   ]
  },
  {
   "cell_type": "code",
   "execution_count": 10,
   "id": "a8526e37",
   "metadata": {},
   "outputs": [
    {
     "data": {
      "text/plain": [
       "'Create three film reviews about the same film. Film can be real or imaginary. Reviews must be negative. Base your reviews on this review:\"I rented I AM CURIOUS-YELLOW from my video store because of all the controversy that surrounded it when it was first released in 1967. I also heard that at first it was seized by U.S. customs if it ever tried to enter this country, therefore being a fan of films considered \"controversial\" I really had to see this for myself.<br /><br />The plot is centered around a young Swedish drama student named Lena who wants to learn everything she can about life. In particular she wants to focus her attentions to making some sort of documentary on what the average Swede thought about certain political issues such as the Vietnam War and race issues in the United States. In between asking politicians and ordinary denizens of Stockholm about their opinions on politics, she has sex with her drama teacher, classmates, and married men.<br /><br />What kills me about I AM CURIOUS-YELLOW is that 40 years ago, this was considered pornographic. Really, the sex and nudity scenes are few and far between, even then it\\'s not shot like some cheaply made porno. While my countrymen mind find it shocking, in reality sex and nudity are a major staple in Swedish cinema. Even Ingmar Bergman, arguably their answer to good old boy John Ford, had sex scenes in his films.<br /><br />I do commend the filmmakers for the fact that any sex shown in the film is shown for artistic purposes rather than just to shock people and make money to be shown in pornographic theaters in America. I AM CURIOUS-YELLOW is a good film for anyone wanting to study the meat and potatoes (no pun intended) of Swedish cinema. But really, this film doesn\\'t have much of a plot.\". Return your output as a json, where every review is one element. Output should look like this: {\"review1\" : \"\", \"review2\" : \"\", \"review3\" : \"\"}. Do not explain yourself.'"
      ]
     },
     "execution_count": 10,
     "metadata": {},
     "output_type": "execute_result"
    }
   ],
   "source": [
    "text_out"
   ]
  },
  {
   "cell_type": "code",
   "execution_count": 11,
   "id": "4c0b05ad",
   "metadata": {},
   "outputs": [],
   "source": [
    "generated_prompts = {\n",
    "    \"id\" : [],\n",
    "    \"prompt\" : [],\n",
    "}\n",
    "for i in range(4167):\n",
    "    text_out = text % (chosen_texts[i % 1250])\n",
    "    generated_prompts['id'].append(i)\n",
    "    generated_prompts['prompt'].append(text_out)"
   ]
  },
  {
   "cell_type": "code",
   "execution_count": 12,
   "id": "d5553da7",
   "metadata": {},
   "outputs": [],
   "source": [
    "df = pd.DataFrame(generated_prompts)"
   ]
  },
  {
   "cell_type": "code",
   "execution_count": 13,
   "id": "8d748dd8",
   "metadata": {},
   "outputs": [],
   "source": [
    "df.to_csv(\"similar_prompts_01.csv\", index=False, sep=\";\")"
   ]
  },
  {
   "cell_type": "code",
   "execution_count": null,
   "id": "cae8b6c8",
   "metadata": {},
   "outputs": [],
   "source": []
  }
 ],
 "metadata": {
  "kernelspec": {
   "display_name": "Python 3 (ipykernel)",
   "language": "python",
   "name": "python3"
  },
  "language_info": {
   "codemirror_mode": {
    "name": "ipython",
    "version": 3
   },
   "file_extension": ".py",
   "mimetype": "text/x-python",
   "name": "python",
   "nbconvert_exporter": "python",
   "pygments_lexer": "ipython3",
   "version": "3.10.7"
  }
 },
 "nbformat": 4,
 "nbformat_minor": 5
}
